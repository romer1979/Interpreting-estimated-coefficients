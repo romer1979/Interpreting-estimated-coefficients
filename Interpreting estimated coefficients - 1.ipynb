{
 "cells": [
  {
   "cell_type": "markdown",
   "metadata": {},
   "source": [
    "## 1. Interpretation and significance"
   ]
  },
  {
   "cell_type": "markdown",
   "metadata": {},
   "source": [
    "$$ expenditure = 873 + 0.0012annual\\_income + 0.00002annual\\_income^2 - 223.57have\\_kids $$"
   ]
  },
  {
   "cell_type": "markdown",
   "metadata": {},
   "source": [
    "This model missing coefficients significance sstatistics. These coeficients should equal zero if it is not statistically significant."
   ]
  },
  {
   "cell_type": "markdown",
   "metadata": {},
   "source": [
    "873 is the bias of the moel (intercept). from the model we can say families who have kids spend 223.57 dollars less in average compare to families with no kids. the relation ship between the expenditure on recreation and annual income is quadritic. An increae of 1,000 dollars in annual income will result in extra 1.2 + 20 = 21.2 dollard expenditure in recreation "
   ]
  }
 ],
 "metadata": {
  "kernelspec": {
   "display_name": "Python 3",
   "language": "python",
   "name": "python3"
  },
  "language_info": {
   "codemirror_mode": {
    "name": "ipython",
    "version": 3
   },
   "file_extension": ".py",
   "mimetype": "text/x-python",
   "name": "python",
   "nbconvert_exporter": "python",
   "pygments_lexer": "ipython3",
   "version": "3.7.3"
  }
 },
 "nbformat": 4,
 "nbformat_minor": 2
}
